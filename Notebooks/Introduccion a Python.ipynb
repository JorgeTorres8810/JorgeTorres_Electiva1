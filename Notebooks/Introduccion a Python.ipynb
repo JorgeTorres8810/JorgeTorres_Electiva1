{
 "cells": [
  {
   "cell_type": "code",
   "execution_count": 1,
   "id": "31f08a10",
   "metadata": {},
   "outputs": [
    {
     "name": "stdout",
     "output_type": "stream",
     "text": [
      "Hola Mundo\n"
     ]
    }
   ],
   "source": [
    "print(\"Hola Mundo\")"
   ]
  },
  {
   "cell_type": "code",
   "execution_count": 9,
   "id": "6243a4f4",
   "metadata": {},
   "outputs": [
    {
     "data": {
      "text/plain": [
       "[2, 3, 5, 'Acceder']"
      ]
     },
     "execution_count": 9,
     "metadata": {},
     "output_type": "execute_result"
    }
   ],
   "source": [
    "#Cear una Lista\n",
    "Nombres = [\"Sara\",\"Juan\",\"Pedro\",\"Leidy\",\"Yulieth\",\"Henry\",\"Daniel\",\"Martha\",2,3,4,5,[2,3,5,[2,3,5,\"Acceder\"]]]\n",
    "\n",
    "#Acceder a los Elementos de la lista\n",
    "\n",
    "Nombres[4]\n",
    "\n",
    "#Accedder al ultimo elemento de la lista\n",
    "\n",
    "Nombres[-1]\n",
    "\n",
    "#Acceder a elementos de una lista dentro de una lista\n",
    "\n",
    "Nombres[-1][1]\n",
    "\n",
    "Nombres[-1][-1]"
   ]
  },
  {
   "cell_type": "code",
   "execution_count": 10,
   "id": "6f3db88e",
   "metadata": {},
   "outputs": [
    {
     "data": {
      "text/plain": [
       "[[1, 2, 3], [5, 6, 7], [8, 9, 10]]"
      ]
     },
     "execution_count": 10,
     "metadata": {},
     "output_type": "execute_result"
    }
   ],
   "source": [
    "#Crear una Matriz\n",
    "\n",
    "matrix=[[1,2,3],[5,6,7],[8,9,10]]\n",
    "matrix"
   ]
  },
  {
   "cell_type": "code",
   "execution_count": 11,
   "id": "15281080",
   "metadata": {},
   "outputs": [
    {
     "data": {
      "text/plain": [
       "6"
      ]
     },
     "execution_count": 11,
     "metadata": {},
     "output_type": "execute_result"
    }
   ],
   "source": [
    "matrix[1][1]"
   ]
  },
  {
   "cell_type": "code",
   "execution_count": 15,
   "id": "c8d0decc",
   "metadata": {},
   "outputs": [
    {
     "data": {
      "text/plain": [
       "[1, 2, 3, 4, 5, 6]"
      ]
     },
     "execution_count": 15,
     "metadata": {},
     "output_type": "execute_result"
    }
   ],
   "source": [
    "#Ordenar una lista\n",
    "\n",
    "Lista=[6,5,4,3,2,1]\n",
    "Lista.sort()\n",
    "Lista"
   ]
  },
  {
   "cell_type": "code",
   "execution_count": 22,
   "id": "dcacb287",
   "metadata": {},
   "outputs": [],
   "source": [
    "#Crear diccionarios\n",
    "diccionario_pib={\"Colombia\":[1000,2000,3000,4000],\"Peru\":1500,\"Brasil\":2000,\"USA\":7000}"
   ]
  },
  {
   "cell_type": "code",
   "execution_count": 23,
   "id": "6375f9b6",
   "metadata": {},
   "outputs": [
    {
     "data": {
      "text/plain": [
       "[1000, 2000, 3000, 4000]"
      ]
     },
     "execution_count": 23,
     "metadata": {},
     "output_type": "execute_result"
    }
   ],
   "source": [
    "#Acceder a elementos del Diccionario\n",
    "diccionario_pib[\"Colombia\"]"
   ]
  },
  {
   "cell_type": "code",
   "execution_count": 27,
   "id": "1d2719f2",
   "metadata": {},
   "outputs": [],
   "source": [
    "diccionario_Nomb={\"Nombre\":[\"Pablo\",\"Jhon\",\"Juan\",\"Pedro\"],\n",
    "                 \"Telefono\":[123,456,789,8899],\n",
    "                 \"Carrera\":[\"Econommia\",\"Filosofia\",\"Derecho\",\"Quimica\"]}"
   ]
  },
  {
   "cell_type": "code",
   "execution_count": 28,
   "id": "50ed28e3",
   "metadata": {},
   "outputs": [
    {
     "data": {
      "text/plain": [
       "['Pablo', 'Jhon', 'Juan', 'Pedro']"
      ]
     },
     "execution_count": 28,
     "metadata": {},
     "output_type": "execute_result"
    }
   ],
   "source": [
    "diccionario_Nomb[\"Nombre\"]"
   ]
  }
 ],
 "metadata": {
  "kernelspec": {
   "display_name": "Python 3",
   "language": "python",
   "name": "python3"
  },
  "language_info": {
   "codemirror_mode": {
    "name": "ipython",
    "version": 3
   },
   "file_extension": ".py",
   "mimetype": "text/x-python",
   "name": "python",
   "nbconvert_exporter": "python",
   "pygments_lexer": "ipython3",
   "version": "3.12.1"
  }
 },
 "nbformat": 4,
 "nbformat_minor": 5
}
