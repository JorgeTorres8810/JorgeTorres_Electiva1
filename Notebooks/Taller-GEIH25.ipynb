{
 "cells": [
  {
   "cell_type": "code",
   "execution_count": 1,
   "id": "9b38492e",
   "metadata": {},
   "outputs": [],
   "source": [
    "#Importar las librerías necesarias\n",
    "import pandas as pd\n",
    "import numpy as np"
   ]
  },
  {
   "cell_type": "code",
   "execution_count": 2,
   "id": "0d788200",
   "metadata": {},
   "outputs": [],
   "source": [
    "#Creando las variables con las urls de los datos\n",
    "url_cgsse=\"https://github.com/niconomist98/DataAnalyticsUQ/raw/refs/heads/main/Datos/GEIH2025/cgsse.CSV\"\n",
    "url_ocupados=\"https://github.com/niconomist98/DataAnalyticsUQ/raw/refs/heads/main/Datos/GEIH2025/Ocupados.CSV\"\n",
    "url_ft=\"https://github.com/niconomist98/DataAnalyticsUQ/raw/refs/heads/main/Datos/GEIH2025/Fuerza%20de%20trabajo.CSV\"\n",
    "url_desocupados=\"https://github.com/niconomist98/DataAnalyticsUQ/raw/refs/heads/main/Datos/GEIH2025/No%20ocupados.CSV\""
   ]
  },
  {
   "cell_type": "code",
   "execution_count": null,
   "id": "07a39b95",
   "metadata": {},
   "outputs": [],
   "source": [
    "#Generando los objetos para leer las bases de datos \n",
    "#CGSSE\n",
    "df_cgsse=pd.read_csv(url_cgsse,encoding=\"latin-1\",sep=\";\",low_memory=False)\n",
    "\n",
    "#Ocupados\n",
    "df_ocupados=pd.read_csv(url_ocupados,encoding=\"latin-1\",sep=\";\",low_memory=False)\n",
    "\n",
    "#Fuerza de trabajo\n",
    "df_ft=pd.read_csv(url_ft,encoding=\"latin-1\",sep=\";\",low_memory=False)\n",
    "\n",
    "#No ocupados\n",
    "df_desocupados=pd.read_csv(url_desocupados,encoding=\"latin-1\",sep=\";\",low_memory=False)"
   ]
  },
  {
   "cell_type": "markdown",
   "id": "12205ed1",
   "metadata": {},
   "source": [
    "Poblacion total"
   ]
  },
  {
   "cell_type": "code",
   "execution_count": 8,
   "id": "edf47507",
   "metadata": {},
   "outputs": [
    {
     "name": "stdout",
     "output_type": "stream",
     "text": [
      "Poblacion total: 52045001\n"
     ]
    }
   ],
   "source": [
    "int(df_cgsse[\"FEX_C18\"].sum())\n",
    "print(f'Poblacion total: {int(df_cgsse[\"FEX_C18\"].sum())}')"
   ]
  },
  {
   "cell_type": "markdown",
   "id": "1e1657d5",
   "metadata": {},
   "source": [
    "Poblacion en edad de trabajar"
   ]
  },
  {
   "cell_type": "code",
   "execution_count": 7,
   "id": "3147f7c1",
   "metadata": {},
   "outputs": [
    {
     "name": "stdout",
     "output_type": "stream",
     "text": [
      "Poblacion en edad de trabajar\": 40653416\n"
     ]
    }
   ],
   "source": [
    "PET=df_cgsse[df_cgsse['P6040']>=15][\"FEX_C18\"].sum()\n",
    "print(f'Poblacion en edad de trabajar\": {int(PET)}')"
   ]
  },
  {
   "cell_type": "markdown",
   "id": "2f36a1b5",
   "metadata": {},
   "source": [
    "Calculo de la tasa de ocupacion "
   ]
  },
  {
   "cell_type": "code",
   "execution_count": 15,
   "id": "359acc87",
   "metadata": {},
   "outputs": [
    {
     "name": "stdout",
     "output_type": "stream",
     "text": [
      "Poblacion ocupada: 23752952\n",
      "Poblacion en edad de trabajar: 40653416\n",
      "Tasa de ocupacion: 58.43%\n"
     ]
    }
   ],
   "source": [
    "Ocupados = df_ocupados[\"FEX_C18\"].sum()\n",
    "print(f'Poblacion ocupada: {int(Ocupados)}')\n",
    "\n",
    "PET=df_ft[\"FEX_C18\"].sum()\n",
    "print(f'Poblacion en edad de trabajar: {int(PEA)}')\n",
    "\n",
    "Tasa_ocupacion=(Ocupados/PEA)*100\n",
    "print(f'Tasa de ocupacion: {Tasa_ocupacion:.2f}%')"
   ]
  },
  {
   "cell_type": "markdown",
   "id": "a3c35a24",
   "metadata": {},
   "source": [
    "Tasa de Desempleo"
   ]
  },
  {
   "cell_type": "code",
   "execution_count": 16,
   "id": "cbdcc1f7",
   "metadata": {},
   "outputs": [
    {
     "name": "stdout",
     "output_type": "stream",
     "text": [
      "Poblacion Desempleada: 16900463\n",
      "Tasa de Desempleo: 41.57%\n"
     ]
    }
   ],
   "source": [
    "Desempleados=df_desocupados[\"FEX_C18\"].sum()\n",
    "print(f'Poblacion Desempleada: {int(Desempleados)}')\n",
    "Tasa_desempleo=(Desempleados/PET)*100\n",
    "print(f'Tasa de Desempleo: {Tasa_desempleo:.2f}%')"
   ]
  },
  {
   "cell_type": "markdown",
   "id": "b2cb79ee",
   "metadata": {},
   "source": [
    "Calculo de la PEA"
   ]
  },
  {
   "cell_type": "code",
   "execution_count": 22,
   "id": "6ac02cd2",
   "metadata": {},
   "outputs": [
    {
     "name": "stdout",
     "output_type": "stream",
     "text": [
      "Poblacion Economicamente Activa: 25974846\n",
      "Poblacion Economicamente Inactiva: 14678569\n",
      "Tasa de Desempleo: 65.06%\n"
     ]
    }
   ],
   "source": [
    "PEA=df_ft[df_ft['FT']==1][\"FEX_C18\"].sum()  \n",
    "print(f'Poblacion Economicamente Activa: {int(PEA)}')\n",
    "\n",
    "PEI=df_ft[df_ft['FFT']==1][\"FEX_C18\"].sum() \n",
    "print(f'Poblacion Economicamente Inactiva: {int(PEI)}')\n",
    "\n",
    "Desempleo=(Desempleados/PEA)*100\n",
    "print(f'Tasa de Desempleo: {Desempleo:.2f}%')\n"
   ]
  },
  {
   "cell_type": "markdown",
   "id": "2058c521",
   "metadata": {},
   "source": [
    "Tasa de desempleo para hombres y mujeres por dapartamento   "
   ]
  }
 ],
 "metadata": {
  "kernelspec": {
   "display_name": "Python 3",
   "language": "python",
   "name": "python3"
  },
  "language_info": {
   "codemirror_mode": {
    "name": "ipython",
    "version": 3
   },
   "file_extension": ".py",
   "mimetype": "text/x-python",
   "name": "python",
   "nbconvert_exporter": "python",
   "pygments_lexer": "ipython3",
   "version": "3.12.1"
  }
 },
 "nbformat": 4,
 "nbformat_minor": 5
}
