{
 "cells": [
  {
   "cell_type": "code",
   "execution_count": 13,
   "id": "9b38492e",
   "metadata": {},
   "outputs": [],
   "source": [
    "#Importar las librerías necesarias\n",
    "import pandas as pd\n",
    "import numpy as np"
   ]
  },
  {
   "cell_type": "code",
   "execution_count": 14,
   "id": "0d788200",
   "metadata": {},
   "outputs": [],
   "source": [
    "#Creando las variables con las urls de los datos\n",
    "url_cgsse=\"https://github.com/niconomist98/DataAnalyticsUQ/raw/refs/heads/main/Datos/GEIH2025/cgsse.CSV\"\n",
    "url_ocupados=\"https://github.com/niconomist98/DataAnalyticsUQ/raw/refs/heads/main/Datos/GEIH2025/Ocupados.CSV\"\n",
    "url_ft=\"https://github.com/niconomist98/DataAnalyticsUQ/raw/refs/heads/main/Datos/GEIH2025/Fuerza%20de%20trabajo.CSV\"\n",
    "url_desocupados=\"https://github.com/niconomist98/DataAnalyticsUQ/raw/refs/heads/main/Datos/GEIH2025/No%20ocupados.CSV\""
   ]
  },
  {
   "cell_type": "code",
   "execution_count": 15,
   "id": "07a39b95",
   "metadata": {},
   "outputs": [],
   "source": [
    "#Generando los objetos para leer las bases de datos \n",
    "#CGSSE\n",
    "df_cgsse=pd.read_csv(url_cgsse,encoding=\"latin-1\",sep=\";\",low_memory=False)\n",
    "\n",
    "#Ocupados\n",
    "df_ocupados=pd.read_csv(url_ocupados,encoding=\"latin-1\",sep=\";\",low_memory=False)\n",
    "\n",
    "#Fuerza de trabajo\n",
    "df_ft=pd.read_csv(url_ft,encoding=\"latin-1\",sep=\";\",low_memory=False)\n",
    "\n",
    "#No ocupados\n",
    "df_desocupados=pd.read_csv(url_desocupados,encoding=\"latin-1\",sep=\";\",low_memory=False)"
   ]
  },
  {
   "cell_type": "markdown",
   "id": "12205ed1",
   "metadata": {},
   "source": [
    "Poblacion total"
   ]
  },
  {
   "cell_type": "code",
   "execution_count": 16,
   "id": "edf47507",
   "metadata": {},
   "outputs": [
    {
     "name": "stdout",
     "output_type": "stream",
     "text": [
      "Poblacion total: 52045001\n"
     ]
    }
   ],
   "source": [
    "int(df_cgsse[\"FEX_C18\"].sum())\n",
    "print(f'Poblacion total: {int(df_cgsse[\"FEX_C18\"].sum())}')"
   ]
  },
  {
   "cell_type": "markdown",
   "id": "1e1657d5",
   "metadata": {},
   "source": [
    "Poblacion en edad de trabajar"
   ]
  },
  {
   "cell_type": "code",
   "execution_count": 17,
   "id": "3147f7c1",
   "metadata": {},
   "outputs": [
    {
     "name": "stdout",
     "output_type": "stream",
     "text": [
      "Poblacion en edad de trabajar\": 40653416\n"
     ]
    }
   ],
   "source": [
    "#Población en edad de trabajar\n",
    "PET=df_cgsse[df_cgsse['P6040']>=15][\"FEX_C18\"].sum()\n",
    "print(f'Poblacion en edad de trabajar\": {int(PET)}')"
   ]
  },
  {
   "cell_type": "code",
   "execution_count": 18,
   "id": "712d200f",
   "metadata": {},
   "outputs": [
    {
     "name": "stdout",
     "output_type": "stream",
     "text": [
      "Personas que no estan en edad de trabajar: 11391585\n"
     ]
    }
   ],
   "source": [
    "#Poblacion que no esta en edad de trabajar\n",
    "PNET=df_cgsse[df_cgsse['P6040']<15]['FEX_C18'].sum()\n",
    "print(f'Personas que no estan en edad de trabajar: {int(PNET)}')"
   ]
  },
  {
   "cell_type": "code",
   "execution_count": 19,
   "id": "2779c0ef",
   "metadata": {},
   "outputs": [
    {
     "name": "stdout",
     "output_type": "stream",
     "text": [
      "Poblacion Economicamente Activa: 25974846\n",
      "Poblacion Economicamente Inactiva: 14678569\n",
      "la tasa de ocupacion seria: 58.43%\n"
     ]
    }
   ],
   "source": [
    "#Calculo de la PEA y PEI\n",
    "PEA=df_ft[df_ft['FT']==1][\"FEX_C18\"].sum()  \n",
    "print(f'Poblacion Economicamente Activa: {int(PEA)}')\n",
    "\n",
    "PEI=df_ft[df_ft['FFT']==1][\"FEX_C18\"].sum() \n",
    "print(f'Poblacion Economicamente Inactiva: {int(PEI)}')\n",
    "\n",
    "\n",
    "TO = (df_ocupados['FEX_C18'].sum() / PET)\n",
    "print(f'la tasa de ocupacion seria: {TO:.2%}')"
   ]
  },
  {
   "cell_type": "markdown",
   "id": "a3c35a24",
   "metadata": {},
   "source": [
    "Tasa de Desempleo"
   ]
  },
  {
   "cell_type": "code",
   "execution_count": 20,
   "id": "cbdcc1f7",
   "metadata": {},
   "outputs": [
    {
     "name": "stdout",
     "output_type": "stream",
     "text": [
      "Poblacion Desempleada: 16900463\n",
      "Tasa de Desempleo: 41.57%\n"
     ]
    }
   ],
   "source": [
    "Desempleados=df_desocupados[\"FEX_C18\"].sum()\n",
    "print(f'Poblacion Desempleada: {int(Desempleados)}')\n",
    "Tasa_desempleo=(Desempleados/PET)*100\n",
    "print(f'Tasa de Desempleo: {Tasa_desempleo:.2f}%')"
   ]
  },
  {
   "cell_type": "markdown",
   "id": "b2cb79ee",
   "metadata": {},
   "source": [
    "Calculo de la PEA"
   ]
  },
  {
   "cell_type": "code",
   "execution_count": 21,
   "id": "6ac02cd2",
   "metadata": {},
   "outputs": [
    {
     "name": "stdout",
     "output_type": "stream",
     "text": [
      "Poblacion Economicamente Activa: 25974846\n",
      "Poblacion Economicamente Inactiva: 14678569\n",
      "Tasa de Desempleo: 65.06%\n"
     ]
    }
   ],
   "source": [
    "PEA=df_ft[df_ft['FT']==1][\"FEX_C18\"].sum()  \n",
    "print(f'Poblacion Economicamente Activa: {int(PEA)}')\n",
    "\n",
    "PEI=df_ft[df_ft['FFT']==1][\"FEX_C18\"].sum() \n",
    "print(f'Poblacion Economicamente Inactiva: {int(PEI)}')\n",
    "\n",
    "Desempleo=(Desempleados/PEA)*100\n",
    "print(f'Tasa de Desempleo: {Desempleo:.2f}%')\n"
   ]
  },
  {
   "cell_type": "markdown",
   "id": "2058c521",
   "metadata": {},
   "source": [
    "Tasa de desempleo para hombres y mujeres por dapartamento   "
   ]
  },
  {
   "cell_type": "code",
   "execution_count": 28,
   "id": "21cc4063",
   "metadata": {},
   "outputs": [
    {
     "ename": "MergeError",
     "evalue": "Passing 'suffixes' which cause duplicate columns {'P3271_x'} is not allowed.",
     "output_type": "error",
     "traceback": [
      "\u001b[31m---------------------------------------------------------------------------\u001b[39m",
      "\u001b[31mMergeError\u001b[39m                                Traceback (most recent call last)",
      "\u001b[36mCell\u001b[39m\u001b[36m \u001b[39m\u001b[32mIn[28]\u001b[39m\u001b[32m, line 1\u001b[39m\n\u001b[32m----> \u001b[39m\u001b[32m1\u001b[39m df_ft = \u001b[43mpd\u001b[49m\u001b[43m.\u001b[49m\u001b[43mmerge\u001b[49m\u001b[43m(\u001b[49m\n\u001b[32m      2\u001b[39m \u001b[43m    \u001b[49m\u001b[43mdf_ft\u001b[49m\u001b[43m,\u001b[49m\n\u001b[32m      3\u001b[39m \u001b[43m    \u001b[49m\u001b[43mdf_cgsse\u001b[49m\u001b[43m[\u001b[49m\u001b[43m[\u001b[49m\u001b[33;43m'\u001b[39;49m\u001b[33;43mDIRECTORIO\u001b[39;49m\u001b[33;43m'\u001b[39;49m\u001b[43m,\u001b[49m\u001b[43m \u001b[49m\u001b[33;43m'\u001b[39;49m\u001b[33;43mSECUENCIA_P\u001b[39;49m\u001b[33;43m'\u001b[39;49m\u001b[43m,\u001b[49m\u001b[43m \u001b[49m\u001b[33;43m'\u001b[39;49m\u001b[33;43mORDEN\u001b[39;49m\u001b[33;43m'\u001b[39;49m\u001b[43m,\u001b[49m\u001b[43m \u001b[49m\u001b[33;43m'\u001b[39;49m\u001b[33;43mP3271\u001b[39;49m\u001b[33;43m'\u001b[39;49m\u001b[43m]\u001b[49m\u001b[43m]\u001b[49m\u001b[43m,\u001b[49m\n\u001b[32m      4\u001b[39m \u001b[43m    \u001b[49m\u001b[43mon\u001b[49m\u001b[43m=\u001b[49m\u001b[43m[\u001b[49m\u001b[33;43m'\u001b[39;49m\u001b[33;43mDIRECTORIO\u001b[39;49m\u001b[33;43m'\u001b[39;49m\u001b[43m,\u001b[49m\u001b[43m \u001b[49m\u001b[33;43m'\u001b[39;49m\u001b[33;43mSECUENCIA_P\u001b[39;49m\u001b[33;43m'\u001b[39;49m\u001b[43m,\u001b[49m\u001b[43m \u001b[49m\u001b[33;43m'\u001b[39;49m\u001b[33;43mORDEN\u001b[39;49m\u001b[33;43m'\u001b[39;49m\u001b[43m]\u001b[49m\u001b[43m,\u001b[49m\n\u001b[32m      5\u001b[39m \u001b[43m    \u001b[49m\u001b[43mhow\u001b[49m\u001b[43m=\u001b[49m\u001b[33;43m'\u001b[39;49m\u001b[33;43mleft\u001b[39;49m\u001b[33;43m'\u001b[39;49m\n\u001b[32m      6\u001b[39m \u001b[43m)\u001b[49m\n\u001b[32m      7\u001b[39m df_desocupados = pd.merge(\n\u001b[32m      8\u001b[39m     df_desocupados,\n\u001b[32m      9\u001b[39m     df_cgsse[[\u001b[33m'\u001b[39m\u001b[33mDIRECTORIO\u001b[39m\u001b[33m'\u001b[39m, \u001b[33m'\u001b[39m\u001b[33mSECUENCIA_P\u001b[39m\u001b[33m'\u001b[39m, \u001b[33m'\u001b[39m\u001b[33mORDEN\u001b[39m\u001b[33m'\u001b[39m, \u001b[33m'\u001b[39m\u001b[33mP3271\u001b[39m\u001b[33m'\u001b[39m]],\n\u001b[32m     10\u001b[39m     on=[\u001b[33m'\u001b[39m\u001b[33mDIRECTORIO\u001b[39m\u001b[33m'\u001b[39m, \u001b[33m'\u001b[39m\u001b[33mSECUENCIA_P\u001b[39m\u001b[33m'\u001b[39m, \u001b[33m'\u001b[39m\u001b[33mORDEN\u001b[39m\u001b[33m'\u001b[39m],\n\u001b[32m     11\u001b[39m     how=\u001b[33m'\u001b[39m\u001b[33mleft\u001b[39m\u001b[33m'\u001b[39m\n\u001b[32m     12\u001b[39m )\n",
      "\u001b[36mFile \u001b[39m\u001b[32m~/.local/lib/python3.12/site-packages/pandas/core/reshape/merge.py:184\u001b[39m, in \u001b[36mmerge\u001b[39m\u001b[34m(left, right, how, on, left_on, right_on, left_index, right_index, sort, suffixes, copy, indicator, validate)\u001b[39m\n\u001b[32m    169\u001b[39m \u001b[38;5;28;01melse\u001b[39;00m:\n\u001b[32m    170\u001b[39m     op = _MergeOperation(\n\u001b[32m    171\u001b[39m         left_df,\n\u001b[32m    172\u001b[39m         right_df,\n\u001b[32m   (...)\u001b[39m\u001b[32m    182\u001b[39m         validate=validate,\n\u001b[32m    183\u001b[39m     )\n\u001b[32m--> \u001b[39m\u001b[32m184\u001b[39m     \u001b[38;5;28;01mreturn\u001b[39;00m \u001b[43mop\u001b[49m\u001b[43m.\u001b[49m\u001b[43mget_result\u001b[49m\u001b[43m(\u001b[49m\u001b[43mcopy\u001b[49m\u001b[43m=\u001b[49m\u001b[43mcopy\u001b[49m\u001b[43m)\u001b[49m\n",
      "\u001b[36mFile \u001b[39m\u001b[32m~/.local/lib/python3.12/site-packages/pandas/core/reshape/merge.py:888\u001b[39m, in \u001b[36m_MergeOperation.get_result\u001b[39m\u001b[34m(self, copy)\u001b[39m\n\u001b[32m    884\u001b[39m     \u001b[38;5;28mself\u001b[39m.left, \u001b[38;5;28mself\u001b[39m.right = \u001b[38;5;28mself\u001b[39m._indicator_pre_merge(\u001b[38;5;28mself\u001b[39m.left, \u001b[38;5;28mself\u001b[39m.right)\n\u001b[32m    886\u001b[39m join_index, left_indexer, right_indexer = \u001b[38;5;28mself\u001b[39m._get_join_info()\n\u001b[32m--> \u001b[39m\u001b[32m888\u001b[39m result = \u001b[38;5;28;43mself\u001b[39;49m\u001b[43m.\u001b[49m\u001b[43m_reindex_and_concat\u001b[49m\u001b[43m(\u001b[49m\n\u001b[32m    889\u001b[39m \u001b[43m    \u001b[49m\u001b[43mjoin_index\u001b[49m\u001b[43m,\u001b[49m\u001b[43m \u001b[49m\u001b[43mleft_indexer\u001b[49m\u001b[43m,\u001b[49m\u001b[43m \u001b[49m\u001b[43mright_indexer\u001b[49m\u001b[43m,\u001b[49m\u001b[43m \u001b[49m\u001b[43mcopy\u001b[49m\u001b[43m=\u001b[49m\u001b[43mcopy\u001b[49m\n\u001b[32m    890\u001b[39m \u001b[43m\u001b[49m\u001b[43m)\u001b[49m\n\u001b[32m    891\u001b[39m result = result.__finalize__(\u001b[38;5;28mself\u001b[39m, method=\u001b[38;5;28mself\u001b[39m._merge_type)\n\u001b[32m    893\u001b[39m \u001b[38;5;28;01mif\u001b[39;00m \u001b[38;5;28mself\u001b[39m.indicator:\n",
      "\u001b[36mFile \u001b[39m\u001b[32m~/.local/lib/python3.12/site-packages/pandas/core/reshape/merge.py:840\u001b[39m, in \u001b[36m_MergeOperation._reindex_and_concat\u001b[39m\u001b[34m(self, join_index, left_indexer, right_indexer, copy)\u001b[39m\n\u001b[32m    837\u001b[39m left = \u001b[38;5;28mself\u001b[39m.left[:]\n\u001b[32m    838\u001b[39m right = \u001b[38;5;28mself\u001b[39m.right[:]\n\u001b[32m--> \u001b[39m\u001b[32m840\u001b[39m llabels, rlabels = \u001b[43m_items_overlap_with_suffix\u001b[49m\u001b[43m(\u001b[49m\n\u001b[32m    841\u001b[39m \u001b[43m    \u001b[49m\u001b[38;5;28;43mself\u001b[39;49m\u001b[43m.\u001b[49m\u001b[43mleft\u001b[49m\u001b[43m.\u001b[49m\u001b[43m_info_axis\u001b[49m\u001b[43m,\u001b[49m\u001b[43m \u001b[49m\u001b[38;5;28;43mself\u001b[39;49m\u001b[43m.\u001b[49m\u001b[43mright\u001b[49m\u001b[43m.\u001b[49m\u001b[43m_info_axis\u001b[49m\u001b[43m,\u001b[49m\u001b[43m \u001b[49m\u001b[38;5;28;43mself\u001b[39;49m\u001b[43m.\u001b[49m\u001b[43msuffixes\u001b[49m\n\u001b[32m    842\u001b[39m \u001b[43m\u001b[49m\u001b[43m)\u001b[49m\n\u001b[32m    844\u001b[39m \u001b[38;5;28;01mif\u001b[39;00m left_indexer \u001b[38;5;129;01mis\u001b[39;00m \u001b[38;5;129;01mnot\u001b[39;00m \u001b[38;5;28;01mNone\u001b[39;00m \u001b[38;5;129;01mand\u001b[39;00m \u001b[38;5;129;01mnot\u001b[39;00m is_range_indexer(left_indexer, \u001b[38;5;28mlen\u001b[39m(left)):\n\u001b[32m    845\u001b[39m     \u001b[38;5;66;03m# Pinning the index here (and in the right code just below) is not\u001b[39;00m\n\u001b[32m    846\u001b[39m     \u001b[38;5;66;03m#  necessary, but makes the `.take` more performant if we have e.g.\u001b[39;00m\n\u001b[32m    847\u001b[39m     \u001b[38;5;66;03m#  a MultiIndex for left.index.\u001b[39;00m\n\u001b[32m    848\u001b[39m     lmgr = left._mgr.reindex_indexer(\n\u001b[32m    849\u001b[39m         join_index,\n\u001b[32m    850\u001b[39m         left_indexer,\n\u001b[32m   (...)\u001b[39m\u001b[32m    855\u001b[39m         use_na_proxy=\u001b[38;5;28;01mTrue\u001b[39;00m,\n\u001b[32m    856\u001b[39m     )\n",
      "\u001b[36mFile \u001b[39m\u001b[32m~/.local/lib/python3.12/site-packages/pandas/core/reshape/merge.py:2757\u001b[39m, in \u001b[36m_items_overlap_with_suffix\u001b[39m\u001b[34m(left, right, suffixes)\u001b[39m\n\u001b[32m   2755\u001b[39m     dups.extend(rlabels[(rlabels.duplicated()) & (~right.duplicated())].tolist())\n\u001b[32m   2756\u001b[39m \u001b[38;5;28;01mif\u001b[39;00m dups:\n\u001b[32m-> \u001b[39m\u001b[32m2757\u001b[39m     \u001b[38;5;28;01mraise\u001b[39;00m MergeError(\n\u001b[32m   2758\u001b[39m         \u001b[33mf\u001b[39m\u001b[33m\"\u001b[39m\u001b[33mPassing \u001b[39m\u001b[33m'\u001b[39m\u001b[33msuffixes\u001b[39m\u001b[33m'\u001b[39m\u001b[33m which cause duplicate columns \u001b[39m\u001b[38;5;132;01m{\u001b[39;00m\u001b[38;5;28mset\u001b[39m(dups)\u001b[38;5;132;01m}\u001b[39;00m\u001b[33m is \u001b[39m\u001b[33m\"\u001b[39m\n\u001b[32m   2759\u001b[39m         \u001b[33mf\u001b[39m\u001b[33m\"\u001b[39m\u001b[33mnot allowed.\u001b[39m\u001b[33m\"\u001b[39m,\n\u001b[32m   2760\u001b[39m     )\n\u001b[32m   2762\u001b[39m \u001b[38;5;28;01mreturn\u001b[39;00m llabels, rlabels\n",
      "\u001b[31mMergeError\u001b[39m: Passing 'suffixes' which cause duplicate columns {'P3271_x'} is not allowed."
     ]
    }
   ],
   "source": [
    "df_ft = pd.merge(\n",
    "    df_ft,\n",
    "    df_cgsse[['DIRECTORIO', 'SECUENCIA_P', 'ORDEN', 'P3271']],\n",
    "    on=['DIRECTORIO', 'SECUENCIA_P', 'ORDEN'],\n",
    "    how='left'\n",
    ")\n",
    "df_desocupados = pd.merge(\n",
    "    df_desocupados,\n",
    "    df_cgsse[['DIRECTORIO', 'SECUENCIA_P', 'ORDEN', 'P3271']],\n",
    "    on=['DIRECTORIO', 'SECUENCIA_P', 'ORDEN'],\n",
    "    how='left'\n",
    ")"
   ]
  },
  {
   "cell_type": "code",
   "execution_count": null,
   "id": "49d4ee7c",
   "metadata": {},
   "outputs": [],
   "source": [
    "#Cantidad de hombres desempleados en el Quindio\n",
    "hombres_desempleados_quindio = df_desocupados[\n",
    "    (df_desocupados['DSI'] == 1) &\n",
    "    (df_desocupados['DPTO'] == 63) &\n",
    "    (df_desocupados['P3271'] == 1)\n",
    "]['FEX_C18'].sum()\n",
    "\n",
    "print(f'Total de hombres sin empleo en Quindío: {hombres_desempleados_quindio}')"
   ]
  }
 ],
 "metadata": {
  "kernelspec": {
   "display_name": "Python 3",
   "language": "python",
   "name": "python3"
  },
  "language_info": {
   "codemirror_mode": {
    "name": "ipython",
    "version": 3
   },
   "file_extension": ".py",
   "mimetype": "text/x-python",
   "name": "python",
   "nbconvert_exporter": "python",
   "pygments_lexer": "ipython3",
   "version": "3.12.1"
  }
 },
 "nbformat": 4,
 "nbformat_minor": 5
}
